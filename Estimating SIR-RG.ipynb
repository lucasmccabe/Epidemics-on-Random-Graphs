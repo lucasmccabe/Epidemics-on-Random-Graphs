{
 "cells": [
  {
   "cell_type": "code",
   "execution_count": 1,
   "metadata": {
    "collapsed": true
   },
   "outputs": [],
   "source": [
    "import numpy as np"
   ]
  },
  {
   "cell_type": "code",
   "execution_count": 57,
   "metadata": {
    "collapsed": true
   },
   "outputs": [],
   "source": [
    "def estimate_I(t: int,\n",
    "                n: int,\n",
    "                p_adj: float,\n",
    "                p_inf: float,\n",
    "                t_rec: int) -> int:\n",
    "    if t <= 0:\n",
    "        return 1\n",
    "    \n",
    "    estimate = estimate_I(t-1,n,p_adj,p_inf,t_rec)\\\n",
    "                *(1+(n-estimate_I(t-1,n,p_adj,p_inf,t_rec)\\\n",
    "                         -estimate_R(t-1,n,p_adj,p_inf,t_rec))*p_adj*p_inf\\\n",
    "                  - 1.0/t_rec)\n",
    "    return max(estimate, 0)\n",
    "\n",
    "\n",
    "def estimate_R(t: int,\n",
    "                n: int,\n",
    "                p_adj: float,\n",
    "                p_inf: float,\n",
    "                t_rec: int) -> int:\n",
    "    if t<=0:\n",
    "        return 0\n",
    "    \n",
    "    estimate = estimate_R(t-1,n,p_adj,p_inf,t_rec) + (estimate_I(t-1,n,p_adj,p_inf,t_rec)/t_rec)\n",
    "    return max(estimate, 0)"
   ]
  },
  {
   "cell_type": "code",
   "execution_count": 70,
   "metadata": {},
   "outputs": [
    {
     "name": "stdout",
     "output_type": "stream",
     "text": [
      "Infected at step 0: 1\n",
      "Recovered at step 0: 0\n",
      "\n",
      "\n",
      "Infected at step 1: 10\n",
      "Recovered at step 1: 0\n",
      "\n",
      "\n",
      "Infected at step 2: 116\n",
      "Recovered at step 2: 2\n",
      "\n",
      "\n",
      "Infected at step 3: 1244\n",
      "Recovered at step 3: 25\n",
      "\n",
      "\n",
      "Infected at step 4: 11859\n",
      "Recovered at step 4: 274\n",
      "\n",
      "\n",
      "Infected at step 5: 0\n",
      "Recovered at step 5: 2646\n",
      "\n",
      "\n",
      "Infected at step 6: 0\n",
      "Recovered at step 6: 2646\n",
      "\n",
      "\n",
      "Infected at step 7: 0\n",
      "Recovered at step 7: 2646\n",
      "\n",
      "\n",
      "Infected at step 8: 0\n",
      "Recovered at step 8: 2646\n",
      "\n",
      "\n",
      "Infected at step 9: 0\n",
      "Recovered at step 9: 2646\n",
      "\n",
      "\n"
     ]
    }
   ],
   "source": [
    "n = 10000\n",
    "p_adj = 0.01\n",
    "p_inf = 0.1\n",
    "t_rec = 5\n",
    "for i in range(10):\n",
    "    \n",
    "    infected, recovered = estimate_I(i,n,p_adj,p_inf,t_rec), estimate_R(i,n,p_adj,p_inf,t_rec)\n",
    "    print('Infected at step %d: %d' %(i, infected))\n",
    "    print('Recovered at step %d: %d' %(i, recovered))\n",
    "    print('\\n')\n",
    "    \n",
    "    #if recovered == n or int(infected) == 0:\n",
    "    #    break"
   ]
  },
  {
   "cell_type": "code",
   "execution_count": 69,
   "metadata": {
    "collapsed": true
   },
   "outputs": [],
   "source": [
    "def estimate_I(t: int,\n",
    "                n: int,\n",
    "                p_adj: float,\n",
    "                p_inf: float,\n",
    "                t_rec: int) -> int:\n",
    "    if t <= 0:\n",
    "        return 1\n",
    "    \n",
    "    estimate = estimate_I(t-1,n,p_adj,p_inf,t_rec)\\\n",
    "                *(1+(n-estimate_I(t-1,n,p_adj,p_inf,t_rec)\\\n",
    "                         -estimate_R(t-1,n,p_adj,p_inf,t_rec))*p_adj*p_inf\\\n",
    "                  - 1.0/t_rec)\n",
    "    return max(estimate, 0)\n",
    "\n",
    "def estimate_R(t: int,\n",
    "                n: int,\n",
    "                p_adj: float,\n",
    "                p_inf: float,\n",
    "                t_rec: int) -> int:\n",
    "    if t<=0:\n",
    "        return 0\n",
    "    \n",
    "    return estimate_R(t-1,n,p_adj,p_inf,t_rec) + estimate_I(t-1,n,p_adj,p_inf,t_rec)/t_rec"
   ]
  },
  {
   "cell_type": "code",
   "execution_count": 64,
   "metadata": {},
   "outputs": [
    {
     "name": "stdout",
     "output_type": "stream",
     "text": [
      "102.72604972100439\n",
      "2040.9930019134551\n"
     ]
    }
   ],
   "source": [
    "n = 1000\n",
    "p_adj = 0.1\n",
    "p_inf = 0.07\n",
    "t_recover = 5\n",
    "t = 4\n",
    "print(estimate_R(t,n,p_adj,p_inf,t_rec))\n",
    "print(estimate_I(t,n,p_adj,p_inf,t_rec))"
   ]
  },
  {
   "cell_type": "code",
   "execution_count": null,
   "metadata": {
    "collapsed": true
   },
   "outputs": [],
   "source": []
  },
  {
   "cell_type": "code",
   "execution_count": null,
   "metadata": {
    "collapsed": true
   },
   "outputs": [],
   "source": []
  }
 ],
 "metadata": {
  "kernelspec": {
   "display_name": "Python 3",
   "language": "python",
   "name": "python3"
  },
  "language_info": {
   "codemirror_mode": {
    "name": "ipython",
    "version": 3
   },
   "file_extension": ".py",
   "mimetype": "text/x-python",
   "name": "python",
   "nbconvert_exporter": "python",
   "pygments_lexer": "ipython3",
   "version": "3.6.3"
  }
 },
 "nbformat": 4,
 "nbformat_minor": 2
}
